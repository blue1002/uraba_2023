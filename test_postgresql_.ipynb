{
 "cells": [
  {
   "cell_type": "code",
   "execution_count": 1,
   "id": "e861f279-9cc3-4b5f-a781-24d2f1249261",
   "metadata": {},
   "outputs": [],
   "source": [
    "# import db adapter\n",
    "import psycopg2"
   ]
  },
  {
   "cell_type": "code",
   "execution_count": 2,
   "id": "d2c97649-856c-4868-83b5-d28f2b208862",
   "metadata": {},
   "outputs": [],
   "source": [
    "# connect\n",
    "psconn = psycopg2.connect(host=\"localhost\",\n",
    "                          port = 5432, \n",
    "                          database=\"db_personas\",\n",
    "                          user=\"postgres\", \n",
    "                          password=\"octubre1002\")\n"
   ]
  },
  {
   "cell_type": "code",
   "execution_count": 3,
   "id": "c0b59661-669b-449a-966b-029452be4b53",
   "metadata": {},
   "outputs": [
    {
     "name": "stdout",
     "output_type": "stream",
     "text": [
      "[(1, 'Jose', 'Martinez', 25)]\n"
     ]
    }
   ],
   "source": [
    "cursor=psconn.cursor()\n",
    "sql='SELECT * FROM personas'\n",
    "cursor.execute(sql)\n",
    "registro=cursor.fetchall()\n",
    "print(registro)\n",
    "cursor.close()\n",
    "psconn.close()"
   ]
  }
 ],
 "metadata": {
  "kernelspec": {
   "display_name": "Python 3 (ipykernel)",
   "language": "python",
   "name": "python3"
  },
  "language_info": {
   "codemirror_mode": {
    "name": "ipython",
    "version": 3
   },
   "file_extension": ".py",
   "mimetype": "text/x-python",
   "name": "python",
   "nbconvert_exporter": "python",
   "pygments_lexer": "ipython3",
   "version": "3.9.13"
  }
 },
 "nbformat": 4,
 "nbformat_minor": 5
}
